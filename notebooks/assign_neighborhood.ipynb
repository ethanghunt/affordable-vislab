{
 "cells": [
  {
   "cell_type": "code",
   "execution_count": 11,
   "metadata": {},
   "outputs": [],
   "source": [
    "import pandas as pd\n",
    "import numpy as np\n",
    "import json\n",
    "import shapely.geometry"
   ]
  },
  {
   "cell_type": "code",
   "execution_count": 31,
   "metadata": {},
   "outputs": [
    {
     "name": "stderr",
     "output_type": "stream",
     "text": [
      "/var/folders/6v/n3x50m4s03380xg5w06p_2nw0000gn/T/ipykernel_52831/2590784771.py:25: DtypeWarning: Columns (37,66,76,81,121) have mixed types. Specify dtype option on import or set low_memory=False.\n",
      "  sold_df = pd.read_csv(file, header=0)\n"
     ]
    }
   ],
   "source": [
    "with open('../data/Official_Neighborhoods.geojson') as file:\n",
    "  data = json.load(file)\n",
    "features = data['features']\n",
    "neighborhoods = pd.DataFrame()\n",
    "for feature in features:\n",
    "  geo_type = feature['geometry']['type']\n",
    "  if geo_type == 'Polygon':\n",
    "    geometry = shapely.geometry.Polygon(feature['geometry']['coordinates'][0])\n",
    "  elif geo_type == 'MultiPolygon':\n",
    "    geometry = shapely.geometry.MultiPolygon(feature['geometry']['coordinates'])\n",
    "  else:\n",
    "    geometry = np.nan\n",
    "  neighborhood = pd.DataFrame({\n",
    "    'id': feature['properties']['OBJECTID'],\n",
    "    'name': feature['properties']['NAME'],\n",
    "    'geo_type': feature['geometry']['type'],\n",
    "    'geometry': geometry\n",
    "  }, index=[0])\n",
    "  neighborhoods = pd.concat([neighborhoods, neighborhood], ignore_index=True)\n",
    "  \n",
    "with open('../data/zillow_all_active_atlanta.csv') as file:\n",
    "  active_df = pd.read_csv(file, header=0)\n",
    "\n",
    "with open('../data/zillow_sold_atlanta.csv') as file:\n",
    "  sold_df = pd.read_csv(file, header=0)\n",
    "  \n",
    "df = pd.concat([active_df, sold_df], ignore_index=True)\n",
    "df.reset_index(drop=True, inplace=True)\n",
    "\n",
    "def find_neighborhood_id(lng, lat):\n",
    "  point = shapely.geometry.Point(lng, lat)\n",
    "  in_neighborhood = neighborhoods.apply(lambda row: row['geometry'].contains(point), axis=1)\n",
    "  indices = in_neighborhood[in_neighborhood].index\n",
    "  if len(indices) == 0:\n",
    "    return -1\n",
    "  return neighborhoods.loc[indices[0], 'id']\n",
    "\n",
    "df['neighborhood_id'] = df.apply(lambda row: find_neighborhood_id(row['longitude'], row['latitude']), axis=1)\n",
    "\n",
    "df.to_csv('../data/zillow_atlanta_with_neighborhood.csv', index=False)"
   ]
  }
 ],
 "metadata": {
  "kernelspec": {
   "display_name": "Python 3",
   "language": "python",
   "name": "python3"
  },
  "language_info": {
   "codemirror_mode": {
    "name": "ipython",
    "version": 3
   },
   "file_extension": ".py",
   "mimetype": "text/x-python",
   "name": "python",
   "nbconvert_exporter": "python",
   "pygments_lexer": "ipython3",
   "version": "3.10.13"
  }
 },
 "nbformat": 4,
 "nbformat_minor": 2
}
