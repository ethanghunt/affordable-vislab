{
 "cells": [
  {
   "cell_type": "code",
   "execution_count": 1,
   "metadata": {},
   "outputs": [],
   "source": [
    "import geopandas as gpd"
   ]
  },
  {
   "cell_type": "code",
   "execution_count": 3,
   "metadata": {},
   "outputs": [],
   "source": [
    "shpfile = gpd.read_file('../data/cb_2018_us_cbsa_500k/cb_2018_us_cbsa_500k.shp')"
   ]
  },
  {
   "cell_type": "code",
   "execution_count": 7,
   "metadata": {},
   "outputs": [],
   "source": [
    "shpfile\n",
    "# shpfile where last two digits of NAME are GA\n",
    "shpfile = shpfile[shpfile['NAME'].str[-2:] == 'GA']\n",
    "shpfile.to_file('../data/500kcensus.geojson', driver=\"GeoJSON\")"
   ]
  },
  {
   "cell_type": "code",
   "execution_count": 8,
   "metadata": {},
   "outputs": [
    {
     "data": {
      "text/html": [
       "<div>\n",
       "<style scoped>\n",
       "    .dataframe tbody tr th:only-of-type {\n",
       "        vertical-align: middle;\n",
       "    }\n",
       "\n",
       "    .dataframe tbody tr th {\n",
       "        vertical-align: top;\n",
       "    }\n",
       "\n",
       "    .dataframe thead th {\n",
       "        text-align: right;\n",
       "    }\n",
       "</style>\n",
       "<table border=\"1\" class=\"dataframe\">\n",
       "  <thead>\n",
       "    <tr style=\"text-align: right;\">\n",
       "      <th></th>\n",
       "      <th>STATEFP</th>\n",
       "      <th>CONCTYFP</th>\n",
       "      <th>CONCTYNS</th>\n",
       "      <th>AFFGEOID</th>\n",
       "      <th>GEOID</th>\n",
       "      <th>NAME</th>\n",
       "      <th>LSAD</th>\n",
       "      <th>ALAND</th>\n",
       "      <th>AWATER</th>\n",
       "      <th>geometry</th>\n",
       "    </tr>\n",
       "  </thead>\n",
       "  <tbody>\n",
       "    <tr>\n",
       "      <th>0</th>\n",
       "      <td>13</td>\n",
       "      <td>04200</td>\n",
       "      <td>02405077</td>\n",
       "      <td>1700000US1304200</td>\n",
       "      <td>1304200</td>\n",
       "      <td>Augusta-Richmond County</td>\n",
       "      <td>CG</td>\n",
       "      <td>839976498</td>\n",
       "      <td>11053834</td>\n",
       "      <td>POLYGON ((-82.35030 33.31480, -82.29418 33.354...</td>\n",
       "    </tr>\n",
       "    <tr>\n",
       "      <th>1</th>\n",
       "      <td>13</td>\n",
       "      <td>03436</td>\n",
       "      <td>02407404</td>\n",
       "      <td>1700000US1303436</td>\n",
       "      <td>1303436</td>\n",
       "      <td>Athens-Clarke County</td>\n",
       "      <td>UG</td>\n",
       "      <td>308774405</td>\n",
       "      <td>4698758</td>\n",
       "      <td>POLYGON ((-83.53739 33.96591, -83.49824 33.987...</td>\n",
       "    </tr>\n",
       "  </tbody>\n",
       "</table>\n",
       "</div>"
      ],
      "text/plain": [
       "  STATEFP CONCTYFP  CONCTYNS          AFFGEOID    GEOID  \\\n",
       "0      13    04200  02405077  1700000US1304200  1304200   \n",
       "1      13    03436  02407404  1700000US1303436  1303436   \n",
       "\n",
       "                      NAME LSAD      ALAND    AWATER  \\\n",
       "0  Augusta-Richmond County   CG  839976498  11053834   \n",
       "1     Athens-Clarke County   UG  308774405   4698758   \n",
       "\n",
       "                                            geometry  \n",
       "0  POLYGON ((-82.35030 33.31480, -82.29418 33.354...  \n",
       "1  POLYGON ((-83.53739 33.96591, -83.49824 33.987...  "
      ]
     },
     "execution_count": 8,
     "metadata": {},
     "output_type": "execute_result"
    }
   ],
   "source": [
    "shpfile = gpd.read_file('../data/cb_2018_13_concity_500k/cb_2018_13_concity_500k.shp')\n",
    "shpfile"
   ]
  }
 ],
 "metadata": {
  "kernelspec": {
   "display_name": "Python 3",
   "language": "python",
   "name": "python3"
  },
  "language_info": {
   "codemirror_mode": {
    "name": "ipython",
    "version": 3
   },
   "file_extension": ".py",
   "mimetype": "text/x-python",
   "name": "python",
   "nbconvert_exporter": "python",
   "pygments_lexer": "ipython3",
   "version": "3.10.13"
  }
 },
 "nbformat": 4,
 "nbformat_minor": 2
}
