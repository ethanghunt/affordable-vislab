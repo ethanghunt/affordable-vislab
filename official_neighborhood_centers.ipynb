{
 "cells": [
  {
   "cell_type": "code",
   "execution_count": 1,
   "metadata": {},
   "outputs": [],
   "source": [
    "from sklearn.cluster import HDBSCAN\n",
    "from alpha_shapes import Alpha_Shaper\n",
    "from polylabel import polylabel\n",
    "import json\n",
    "\n",
    "ALPHA = 0.5"
   ]
  },
  {
   "cell_type": "code",
   "execution_count": 2,
   "metadata": {},
   "outputs": [],
   "source": [
    "with open('public/data/Official_Neighborhoods.geojson') as file:\n",
    "  neighborhoods = json.load(file)\n",
    "features = neighborhoods['features']\n",
    "for feature in features:\n",
    "  if feature['geometry']['type'] == 'MultiPolygon':\n",
    "    center_points = []\n",
    "    for subfeature in feature['geometry']['coordinates']:\n",
    "      polygon = subfeature[0]\n",
    "      shaper = Alpha_Shaper(polygon)\n",
    "      alpha_shape = shaper.get_shape(ALPHA)\n",
    "      alpha_shape_coords = [list(coord) for coord in alpha_shape.exterior.coords]\n",
    "      center_point = polylabel([alpha_shape_coords])\n",
    "      center_points.append([float(center_point[0]), float(center_point[1])])\n",
    "    feature['geometry'] = {\n",
    "      \"type\": \"MultiPoint\",\n",
    "      \"coordinates\": center_points\n",
    "    }\n",
    "      \n",
    "  elif feature['geometry']['type'] == 'Polygon':\n",
    "    polygon = feature['geometry']['coordinates'][0]\n",
    "    shaper = Alpha_Shaper(polygon)\n",
    "    alpha_shape = shaper.get_shape(ALPHA)\n",
    "    alpha_shape_coords = [list(coord) for coord in alpha_shape.exterior.coords]\n",
    "    center_point = polylabel([alpha_shape_coords])\n",
    "    feature['geometry'] = {\n",
    "      \"type\": \"Point\",\n",
    "      \"coordinates\": [float(center_point[0]), float(center_point[1])]\n",
    "    }\n",
    "  else:\n",
    "    print(feature['geometry']['type'])\n",
    "    print(feature['properties']['NAME'])\n",
    "\n",
    "with open('public/data/Official_Neighborhoods_Centers.geojson', 'w') as file:\n",
    "  json.dump(neighborhoods, file)"
   ]
  }
 ],
 "metadata": {
  "kernelspec": {
   "display_name": "Python 3",
   "language": "python",
   "name": "python3"
  },
  "language_info": {
   "codemirror_mode": {
    "name": "ipython",
    "version": 3
   },
   "file_extension": ".py",
   "mimetype": "text/x-python",
   "name": "python",
   "nbconvert_exporter": "python",
   "pygments_lexer": "ipython3",
   "version": "3.10.13"
  }
 },
 "nbformat": 4,
 "nbformat_minor": 2
}
