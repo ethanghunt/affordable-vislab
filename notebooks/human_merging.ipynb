{
 "cells": [
  {
   "cell_type": "code",
   "execution_count": 1,
   "metadata": {},
   "outputs": [],
   "source": [
    "import pandas as pd\n",
    "import numpy as np\n",
    "import json\n",
    "import shapely.geometry\n",
    "import shapely\n",
    "import uuid\n",
    "import pickle"
   ]
  },
  {
   "cell_type": "code",
   "execution_count": 6,
   "metadata": {},
   "outputs": [
    {
     "data": {
      "text/plain": [
       "'{\"type\":\"LineString\",\"coordinates\":[[-89.9766792,35.0424114],[-90.7479444,35.0237222],[-90.8151111,35.0242222],[-90.8556944,35.0245],[-92.0,35.0],[-96.0,35.5],[-98.0,36.0],[-102.0,36.5],[-106.0,36.5],[-110.0,36.0],[-112.1087333,35.7338139],[-112.3833333,35.6047167],[-116.0,35.0],[-118.0258528,34.4224389],[-120.0,34.0],[-123.0902667,34.248975],[-134.3461111,34.0230556],[-141.29,31.1783333],[-147.97,27.8922222],[-147.97,27.8922222],[-154.25,24.2958333],[-155.4788361,23.5280306],[-155.4788333,23.5280278],[-156.3425,22.3215],[-156.9656111,21.8405278],[-157.18725,21.6684722],[-157.51,21.4165556],[-157.6233611,21.3276944],[-157.7029722,21.2651111],[-157.9202275,21.3178172]]}'"
      ]
     },
     "execution_count": 6,
     "metadata": {},
     "output_type": "execute_result"
    }
   ],
   "source": [
    "points = [\n",
    "[35.0424114,\t-89.9766792],\n",
    "[35.0237222,\t-90.7479444],\n",
    "[35.0242222,\t-90.8151111],\n",
    "[35.0245000,\t-90.8556944],\n",
    "[35.0000000,\t-92.0000000],\n",
    "[35.5000000,\t-96.0000000],\n",
    "[36.0000000,\t-98.0000000],\n",
    "[36.5000000,\t-102.0000000],\n",
    "[36.5000000,\t-106.0000000],\n",
    "[36.0000000,\t-110.0000000],\n",
    "[35.7338139,\t-112.1087333],\n",
    "[35.6047167,\t-112.3833333],\n",
    "[35.0000000,\t-116.0000000],\n",
    "[34.4224389,\t-118.0258528],\n",
    "[34.0000000,\t-120.0000000],\n",
    "[34.2489750,\t-123.0902667],\n",
    "[34.0230556,\t-134.3461111],\n",
    "[31.1783333,\t-141.2900000],\n",
    "[27.8922222,\t-147.9700000],\n",
    "[27.8922222,\t-147.9700000],\n",
    "[24.2958333,\t-154.2500000],\n",
    "[23.5280306,\t-155.4788361],\n",
    "[23.5280278,\t-155.4788333],\n",
    "[22.3215000,\t-156.3425000],\n",
    "[21.8405278,\t-156.9656111],\n",
    "[21.6684722,\t-157.1872500],\n",
    "[21.4165556,\t-157.5100000],\n",
    "[21.3276944,\t-157.6233611],\n",
    "[21.2651111,\t-157.7029722],\n",
    "[21.3178172,\t-157.9202275]]\n",
    "for point in points:\n",
    "    point.reverse()\n",
    "ls = shapely.geometry.LineString(points)\n",
    "gjson = shapely.to_geojson(ls)\n",
    "gjson"
   ]
  },
  {
   "cell_type": "code",
   "execution_count": 62,
   "metadata": {},
   "outputs": [],
   "source": [
    "df = pd.read_csv('../data/my_props_4.csv')"
   ]
  },
  {
   "cell_type": "code",
   "execution_count": 63,
   "metadata": {},
   "outputs": [
    {
     "data": {
      "text/plain": [
       "<pandas.core.groupby.generic.DataFrameGroupBy object at 0x296bc51e0>"
      ]
     },
     "execution_count": 63,
     "metadata": {},
     "output_type": "execute_result"
    }
   ],
   "source": [
    "group = df.groupby('region_id')\n",
    "group"
   ]
  },
  {
   "cell_type": "code",
   "execution_count": 88,
   "metadata": {},
   "outputs": [],
   "source": [
    "neighborhoods = []\n",
    "for g in group:\n",
    "  gdf = g[1]\n",
    "  gdf['coords'] = gdf.apply(lambda x: [x['longitude'], x['latitude']], axis=1)\n",
    "  multipoint = shapely.geometry.MultiPoint(gdf['coords'].tolist())\n",
    "  neighborhood = {\n",
    "    'id': str(uuid.uuid4()),\n",
    "    'region_id': g[0],\n",
    "    'multipoint': json.loads(shapely.to_geojson(multipoint)),\n",
    "    'centroid': [multipoint.centroid.x, multipoint.centroid.y],\n",
    "  }\n",
    "  neighborhoods.append(neighborhood)\n",
    "# save neighborhoods to json file\n",
    "with open('../data/final/neighborhoods.json', 'w') as f:\n",
    "  json.dump(neighborhoods, f)"
   ]
  },
  {
   "cell_type": "code",
   "execution_count": 76,
   "metadata": {},
   "outputs": [],
   "source": [
    "with open('../data/final/neighborhoods.pkl', 'wb') as handle:\n",
    "    pickle.dump(neighborhoods, handle)"
   ]
  },
  {
   "cell_type": "code",
   "execution_count": 78,
   "metadata": {},
   "outputs": [
    {
     "ename": "UnicodeDecodeError",
     "evalue": "'utf-8' codec can't decode byte 0x80 in position 0: invalid start byte",
     "output_type": "error",
     "traceback": [
      "\u001b[0;31m---------------------------------------------------------------------------\u001b[0m",
      "\u001b[0;31mUnicodeDecodeError\u001b[0m                        Traceback (most recent call last)",
      "Cell \u001b[0;32mIn[78], line 2\u001b[0m\n\u001b[1;32m      1\u001b[0m \u001b[38;5;28;01mwith\u001b[39;00m \u001b[38;5;28mopen\u001b[39m(\u001b[38;5;124m'\u001b[39m\u001b[38;5;124m../data/final/neighborhoods.pkl\u001b[39m\u001b[38;5;124m'\u001b[39m, \u001b[38;5;124m'\u001b[39m\u001b[38;5;124mr\u001b[39m\u001b[38;5;124m'\u001b[39m) \u001b[38;5;28;01mas\u001b[39;00m handle:\n\u001b[0;32m----> 2\u001b[0m   testdf \u001b[38;5;241m=\u001b[39m \u001b[43mpickle\u001b[49m\u001b[38;5;241;43m.\u001b[39;49m\u001b[43mload\u001b[49m\u001b[43m(\u001b[49m\u001b[43mhandle\u001b[49m\u001b[43m)\u001b[49m\n",
      "File \u001b[0;32m~/Repositories/affordable-vislab/.conda/lib/python3.10/codecs.py:322\u001b[0m, in \u001b[0;36mBufferedIncrementalDecoder.decode\u001b[0;34m(self, input, final)\u001b[0m\n\u001b[1;32m    319\u001b[0m \u001b[38;5;28;01mdef\u001b[39;00m \u001b[38;5;21mdecode\u001b[39m(\u001b[38;5;28mself\u001b[39m, \u001b[38;5;28minput\u001b[39m, final\u001b[38;5;241m=\u001b[39m\u001b[38;5;28;01mFalse\u001b[39;00m):\n\u001b[1;32m    320\u001b[0m     \u001b[38;5;66;03m# decode input (taking the buffer into account)\u001b[39;00m\n\u001b[1;32m    321\u001b[0m     data \u001b[38;5;241m=\u001b[39m \u001b[38;5;28mself\u001b[39m\u001b[38;5;241m.\u001b[39mbuffer \u001b[38;5;241m+\u001b[39m \u001b[38;5;28minput\u001b[39m\n\u001b[0;32m--> 322\u001b[0m     (result, consumed) \u001b[38;5;241m=\u001b[39m \u001b[38;5;28;43mself\u001b[39;49m\u001b[38;5;241;43m.\u001b[39;49m\u001b[43m_buffer_decode\u001b[49m\u001b[43m(\u001b[49m\u001b[43mdata\u001b[49m\u001b[43m,\u001b[49m\u001b[43m \u001b[49m\u001b[38;5;28;43mself\u001b[39;49m\u001b[38;5;241;43m.\u001b[39;49m\u001b[43merrors\u001b[49m\u001b[43m,\u001b[49m\u001b[43m \u001b[49m\u001b[43mfinal\u001b[49m\u001b[43m)\u001b[49m\n\u001b[1;32m    323\u001b[0m     \u001b[38;5;66;03m# keep undecoded input until the next call\u001b[39;00m\n\u001b[1;32m    324\u001b[0m     \u001b[38;5;28mself\u001b[39m\u001b[38;5;241m.\u001b[39mbuffer \u001b[38;5;241m=\u001b[39m data[consumed:]\n",
      "\u001b[0;31mUnicodeDecodeError\u001b[0m: 'utf-8' codec can't decode byte 0x80 in position 0: invalid start byte"
     ]
    }
   ],
   "source": []
  },
  {
   "cell_type": "code",
   "execution_count": 57,
   "metadata": {},
   "outputs": [],
   "source": [
    "df.loc[df['region_id'] == 'cluster_23_atlanta', 'region_id'] = 'nan_chamblee'"
   ]
  },
  {
   "cell_type": "code",
   "execution_count": 48,
   "metadata": {},
   "outputs": [
    {
     "data": {
      "text/html": [
       "<div>\n",
       "<style scoped>\n",
       "    .dataframe tbody tr th:only-of-type {\n",
       "        vertical-align: middle;\n",
       "    }\n",
       "\n",
       "    .dataframe tbody tr th {\n",
       "        vertical-align: top;\n",
       "    }\n",
       "\n",
       "    .dataframe thead th {\n",
       "        text-align: right;\n",
       "    }\n",
       "</style>\n",
       "<table border=\"1\" class=\"dataframe\">\n",
       "  <thead>\n",
       "    <tr style=\"text-align: right;\">\n",
       "      <th></th>\n",
       "      <th>propertyId</th>\n",
       "      <th>address_city</th>\n",
       "      <th>address_county</th>\n",
       "      <th>address_zip</th>\n",
       "      <th>latitude</th>\n",
       "      <th>longitude</th>\n",
       "      <th>neighborhood</th>\n",
       "      <th>found_city</th>\n",
       "      <th>accepted_city</th>\n",
       "      <th>region_id</th>\n",
       "    </tr>\n",
       "  </thead>\n",
       "  <tbody>\n",
       "    <tr>\n",
       "      <th>62</th>\n",
       "      <td>14571062</td>\n",
       "      <td>atlanta</td>\n",
       "      <td>dekalb</td>\n",
       "      <td>30340</td>\n",
       "      <td>33.891880</td>\n",
       "      <td>-84.247795</td>\n",
       "      <td>cluster_-1</td>\n",
       "      <td>NaN</td>\n",
       "      <td>atlanta</td>\n",
       "      <td>nan_doraville</td>\n",
       "    </tr>\n",
       "    <tr>\n",
       "      <th>113</th>\n",
       "      <td>14574812</td>\n",
       "      <td>atlanta</td>\n",
       "      <td>dekalb</td>\n",
       "      <td>30340</td>\n",
       "      <td>33.910070</td>\n",
       "      <td>-84.259940</td>\n",
       "      <td>NaN</td>\n",
       "      <td>doraville</td>\n",
       "      <td>doraville</td>\n",
       "      <td>nan_doraville</td>\n",
       "    </tr>\n",
       "    <tr>\n",
       "      <th>165</th>\n",
       "      <td>14571547</td>\n",
       "      <td>atlanta</td>\n",
       "      <td>dekalb</td>\n",
       "      <td>30341</td>\n",
       "      <td>33.886307</td>\n",
       "      <td>-84.250340</td>\n",
       "      <td>cluster_30</td>\n",
       "      <td>NaN</td>\n",
       "      <td>atlanta</td>\n",
       "      <td>nan_doraville</td>\n",
       "    </tr>\n",
       "    <tr>\n",
       "      <th>200</th>\n",
       "      <td>14578876</td>\n",
       "      <td>doraville</td>\n",
       "      <td>dekalb</td>\n",
       "      <td>30340</td>\n",
       "      <td>33.915478</td>\n",
       "      <td>-84.257380</td>\n",
       "      <td>NaN</td>\n",
       "      <td>doraville</td>\n",
       "      <td>doraville</td>\n",
       "      <td>nan_doraville</td>\n",
       "    </tr>\n",
       "    <tr>\n",
       "      <th>283</th>\n",
       "      <td>294843044</td>\n",
       "      <td>atlanta</td>\n",
       "      <td>dekalb</td>\n",
       "      <td>30340</td>\n",
       "      <td>33.889030</td>\n",
       "      <td>-84.276070</td>\n",
       "      <td>NaN</td>\n",
       "      <td>doraville</td>\n",
       "      <td>doraville</td>\n",
       "      <td>nan_doraville</td>\n",
       "    </tr>\n",
       "    <tr>\n",
       "      <th>...</th>\n",
       "      <td>...</td>\n",
       "      <td>...</td>\n",
       "      <td>...</td>\n",
       "      <td>...</td>\n",
       "      <td>...</td>\n",
       "      <td>...</td>\n",
       "      <td>...</td>\n",
       "      <td>...</td>\n",
       "      <td>...</td>\n",
       "      <td>...</td>\n",
       "    </tr>\n",
       "    <tr>\n",
       "      <th>352591</th>\n",
       "      <td>14578471</td>\n",
       "      <td>doraville</td>\n",
       "      <td>dekalb</td>\n",
       "      <td>30360</td>\n",
       "      <td>33.913044</td>\n",
       "      <td>-84.280940</td>\n",
       "      <td>NaN</td>\n",
       "      <td>doraville</td>\n",
       "      <td>doraville</td>\n",
       "      <td>nan_doraville</td>\n",
       "    </tr>\n",
       "    <tr>\n",
       "      <th>352716</th>\n",
       "      <td>14571170</td>\n",
       "      <td>atlanta</td>\n",
       "      <td>dekalb</td>\n",
       "      <td>30340</td>\n",
       "      <td>33.893448</td>\n",
       "      <td>-84.247520</td>\n",
       "      <td>cluster_-1</td>\n",
       "      <td>NaN</td>\n",
       "      <td>atlanta</td>\n",
       "      <td>nan_doraville</td>\n",
       "    </tr>\n",
       "    <tr>\n",
       "      <th>352805</th>\n",
       "      <td>14571634</td>\n",
       "      <td>atlanta</td>\n",
       "      <td>dekalb</td>\n",
       "      <td>30340</td>\n",
       "      <td>33.893740</td>\n",
       "      <td>-84.269690</td>\n",
       "      <td>cluster_-1</td>\n",
       "      <td>NaN</td>\n",
       "      <td>atlanta</td>\n",
       "      <td>nan_doraville</td>\n",
       "    </tr>\n",
       "    <tr>\n",
       "      <th>352886</th>\n",
       "      <td>14574007</td>\n",
       "      <td>atlanta</td>\n",
       "      <td>dekalb</td>\n",
       "      <td>30340</td>\n",
       "      <td>33.898480</td>\n",
       "      <td>-84.272840</td>\n",
       "      <td>NaN</td>\n",
       "      <td>doraville</td>\n",
       "      <td>doraville</td>\n",
       "      <td>nan_doraville</td>\n",
       "    </tr>\n",
       "    <tr>\n",
       "      <th>352901</th>\n",
       "      <td>14564391</td>\n",
       "      <td>doraville</td>\n",
       "      <td>dekalb</td>\n",
       "      <td>30340</td>\n",
       "      <td>33.869663</td>\n",
       "      <td>-84.234510</td>\n",
       "      <td>NaN</td>\n",
       "      <td>NaN</td>\n",
       "      <td>doraville</td>\n",
       "      <td>nan_doraville</td>\n",
       "    </tr>\n",
       "  </tbody>\n",
       "</table>\n",
       "<p>4481 rows × 10 columns</p>\n",
       "</div>"
      ],
      "text/plain": [
       "        propertyId address_city address_county  address_zip   latitude  \\\n",
       "62        14571062      atlanta         dekalb        30340  33.891880   \n",
       "113       14574812      atlanta         dekalb        30340  33.910070   \n",
       "165       14571547      atlanta         dekalb        30341  33.886307   \n",
       "200       14578876    doraville         dekalb        30340  33.915478   \n",
       "283      294843044      atlanta         dekalb        30340  33.889030   \n",
       "...            ...          ...            ...          ...        ...   \n",
       "352591    14578471    doraville         dekalb        30360  33.913044   \n",
       "352716    14571170      atlanta         dekalb        30340  33.893448   \n",
       "352805    14571634      atlanta         dekalb        30340  33.893740   \n",
       "352886    14574007      atlanta         dekalb        30340  33.898480   \n",
       "352901    14564391    doraville         dekalb        30340  33.869663   \n",
       "\n",
       "        longitude neighborhood found_city accepted_city      region_id  \n",
       "62     -84.247795   cluster_-1        NaN       atlanta  nan_doraville  \n",
       "113    -84.259940          NaN  doraville     doraville  nan_doraville  \n",
       "165    -84.250340   cluster_30        NaN       atlanta  nan_doraville  \n",
       "200    -84.257380          NaN  doraville     doraville  nan_doraville  \n",
       "283    -84.276070          NaN  doraville     doraville  nan_doraville  \n",
       "...           ...          ...        ...           ...            ...  \n",
       "352591 -84.280940          NaN  doraville     doraville  nan_doraville  \n",
       "352716 -84.247520   cluster_-1        NaN       atlanta  nan_doraville  \n",
       "352805 -84.269690   cluster_-1        NaN       atlanta  nan_doraville  \n",
       "352886 -84.272840          NaN  doraville     doraville  nan_doraville  \n",
       "352901 -84.234510          NaN        NaN     doraville  nan_doraville  \n",
       "\n",
       "[4481 rows x 10 columns]"
      ]
     },
     "execution_count": 48,
     "metadata": {},
     "output_type": "execute_result"
    }
   ],
   "source": [
    "df.loc[df['region_id'] == 'nan_doraville']"
   ]
  },
  {
   "cell_type": "code",
   "execution_count": 37,
   "metadata": {},
   "outputs": [],
   "source": [
    "def conform_cluster_to_city(df, clusters, city):\n",
    "  df.loc[df['neighborhood'].isin(clusters), 'found_city'] = city\n",
    "  df.loc[df['neighborhood'].isin(clusters), 'accepted_city'] = city\n",
    "  df.loc[df['neighborhood'].isin(clusters), 'neighborhood'] = 'NaN'\n",
    "  df.loc[df['neighborhood'].isin(clusters), 'region_id'] = f'nan_{city}'\n",
    "  return df"
   ]
  },
  {
   "cell_type": "code",
   "execution_count": 41,
   "metadata": {},
   "outputs": [],
   "source": [
    "df = conform_cluster_to_city(df, ['cluster_30', 'cluster_32', 'cluster_6', 'cluster_7'], 'doraville')\n",
    "df = conform_cluster_to_city(df, ['cluster_23'], 'chamblee')"
   ]
  },
  {
   "cell_type": "code",
   "execution_count": 68,
   "metadata": {},
   "outputs": [],
   "source": [
    "df.to_csv('../data/final/properties.csv', index=False)"
   ]
  }
 ],
 "metadata": {
  "kernelspec": {
   "display_name": "Python 3",
   "language": "python",
   "name": "python3"
  },
  "language_info": {
   "codemirror_mode": {
    "name": "ipython",
    "version": 3
   },
   "file_extension": ".py",
   "mimetype": "text/x-python",
   "name": "python",
   "nbconvert_exporter": "python",
   "pygments_lexer": "ipython3",
   "version": "3.10.13"
  }
 },
 "nbformat": 4,
 "nbformat_minor": 2
}
